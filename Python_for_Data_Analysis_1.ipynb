{
  "nbformat": 4,
  "nbformat_minor": 0,
  "metadata": {
    "colab": {
      "name": "Python for Data Analysis_1.ipynb",
      "provenance": [],
      "collapsed_sections": [],
      "authorship_tag": "ABX9TyOS7gabKBg0+hQokKEg9++/",
      "include_colab_link": true
    },
    "kernelspec": {
      "name": "python3",
      "display_name": "Python 3"
    },
    "language_info": {
      "name": "python"
    }
  },
  "cells": [
    {
      "cell_type": "markdown",
      "metadata": {
        "id": "view-in-github",
        "colab_type": "text"
      },
      "source": [
        "<a href=\"https://colab.research.google.com/github/ravi042011/PythonForDataAnalysis/blob/main/Python_for_Data_Analysis_1.ipynb\" target=\"_parent\"><img src=\"https://colab.research.google.com/assets/colab-badge.svg\" alt=\"Open In Colab\"/></a>"
      ]
    },
    {
      "cell_type": "code",
      "metadata": {
        "colab": {
          "base_uri": "https://localhost:8080/"
        },
        "id": "HOkJbJ8pgjsH",
        "outputId": "c1eed844-cca5-427e-a229-0df810d77a10"
      },
      "source": [
        "import numpy as np\n",
        "\n",
        "data = {i: np.random.randn() for i in range(7)}\n",
        "data"
      ],
      "execution_count": null,
      "outputs": [
        {
          "output_type": "execute_result",
          "data": {
            "text/plain": [
              "{0: -0.6470526178893407,\n",
              " 1: 2.976448208444492,\n",
              " 2: -0.5472122204341366,\n",
              " 3: 0.09465477915040847,\n",
              " 4: -0.3374386713620928,\n",
              " 5: 2.1931584733068403,\n",
              " 6: 0.11332443613402376}"
            ]
          },
          "metadata": {
            "tags": []
          },
          "execution_count": 8
        }
      ]
    },
    {
      "cell_type": "code",
      "metadata": {
        "id": "LdsqLvs5hIHH"
      },
      "source": [
        "np.*load*?"
      ],
      "execution_count": null,
      "outputs": []
    },
    {
      "cell_type": "code",
      "metadata": {
        "colab": {
          "base_uri": "https://localhost:8080/"
        },
        "id": "U9nWmkAsg0J7",
        "outputId": "676eaaa9-a9ff-4b60-b59a-b418f5652cc2"
      },
      "source": [
        ""
      ],
      "execution_count": null,
      "outputs": [
        {
          "output_type": "stream",
          "text": [
            "ERROR:root:File `'Untitled1.py'` not found.\n"
          ],
          "name": "stderr"
        }
      ]
    }
  ]
}